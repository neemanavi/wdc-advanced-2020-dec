{
 "cells": [
  {
   "cell_type": "markdown",
   "metadata": {},
   "source": [
    "# Agenda\n",
    "\n",
    "1. Modules + packages\n",
    "2. Classes\n",
    "3. Instances, methods, attributes\n",
    "4. Inheritance"
   ]
  },
  {
   "cell_type": "code",
   "execution_count": null,
   "metadata": {},
   "outputs": [],
   "source": [
    "SYS_CLK_pre = 0*t\n",
    "\n",
    "colors = [\"red\"]\n",
    "colors = str(colors)\n",
    "\n",
    "plot.subplot(2,2,1)\n",
    "plot.plot(t,signal.square(RX_CLK))\n",
    "plot.subplot(2,2,2)\n",
    "plot.plot(t,signal.square(SYS_CLK))\n",
    "place = 0\n",
    "\n",
    "for i in RX_CLK:\n",
    "    place = place +1\n",
    "    if place < 176 :\n",
    "        RX_CLK_pre[place] =  RX_CLK[place]\n",
    "        SYS_CLK_pre[place] = 0\n",
    "        #colors.append(\"red\")\n",
    "        \n",
    "        "
   ]
  }
 ],
 "metadata": {
  "kernelspec": {
   "display_name": "Python 3",
   "language": "python",
   "name": "python3"
  },
  "language_info": {
   "codemirror_mode": {
    "name": "ipython",
    "version": 3
   },
   "file_extension": ".py",
   "mimetype": "text/x-python",
   "name": "python",
   "nbconvert_exporter": "python",
   "pygments_lexer": "ipython3",
   "version": "3.9.1"
  }
 },
 "nbformat": 4,
 "nbformat_minor": 4
}
